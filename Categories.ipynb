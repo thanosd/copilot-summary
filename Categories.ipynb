{
 "cells": [
  {
   "cell_type": "code",
   "execution_count": null,
   "id": "1a950f68-19b5-4027-a740-0fc59dde5cd7",
   "metadata": {},
   "outputs": [],
   "source": [
    "!pip install pandas"
   ]
  },
  {
   "cell_type": "code",
   "execution_count": null,
   "id": "f512c746-fce3-4d93-b965-f24344fdea8a",
   "metadata": {},
   "outputs": [],
   "source": [
    "import pandas as pd"
   ]
  },
  {
   "cell_type": "code",
   "execution_count": null,
   "id": "4ee03804-1506-4a14-aba7-ae7ed5f9d365",
   "metadata": {},
   "outputs": [],
   "source": [
    "############\n",
    "# Expenses #\n",
    "############\n",
    "df = pd.read_csv(\"transactions.csv\", usecols=[\"date\", \"amount\", \"name\", \"category\", \"type\", \"excluded\"])\n",
    "# Convert the date from strings to dates\n",
    "df.date = pd.to_datetime(df.date)\n",
    "# Remove the excluded categories\n",
    "df = df[df.excluded==False]\n",
    "# Filter for the year in question\n",
    "df = df[df['date'].between('2023-01-01', '2023-12-31')]\n",
    "# Group by month and category\n",
    "df = df.set_index('date').groupby([pd.Grouper(freq=\"M\"), \"category\"]).sum().reset_index()\n",
    "# Add a column with the month index\n",
    "df['month'] = df.date.dt.month\n",
    "# Keep only the cols we need\n",
    "df = df[['month', 'category', 'amount']]\n",
    "# Pivot to have rows with categories and cols with months\n",
    "result = df.pivot_table(values=\"amount\", index=df.category, columns=\"month\")\n",
    "# Make it all numbers\n",
    "result.fillna(0, inplace=True)\n",
    "# Round the numbers to ints\n",
    "result = result.round(0).astype(int)\n",
    "# Save in a CSV file\n",
    "result.to_csv('expenses.csv')\n",
    "result"
   ]
  },
  {
   "cell_type": "code",
   "execution_count": null,
   "id": "242e9082-2e5e-4426-9f6e-5f03d8415d1e",
   "metadata": {},
   "outputs": [],
   "source": [
    "df = pd.read_csv(\"transactions.csv\", usecols=[\"date\", \"amount\", \"name\", \"category\", \"type\", \"excluded\"])\n",
    "\n",
    "# Convert the date from strings to dates\n",
    "df.date = pd.to_datetime(df.date)\n",
    "df = df[df['date'].between('2023-01-01', '2023-12-31')]\n",
    "\n",
    "# Keep income and categorize as needed\n",
    "df = df[df.type==\"income\"]\n",
    "df[\"name\"] = df[\"name\"].apply(lambda x: \"salary\" if x.find(\"Included\") != -1 else x)\n",
    "df[\"name\"] = df[\"name\"].apply(lambda x: \"rent\" if x.find(\"Stripe\") != -1 else x)\n",
    "df[\"name\"] = df[\"name\"].apply(lambda x: \"interest\" if x.find(\"Interest\") != -1 else x)\n",
    "df[\"name\"] = df[\"name\"].apply(lambda x: \"cosmic\" if x.find(\"Cosmic\") != -1 else x)\n",
    "df[\"name\"] = df[\"name\"].apply(lambda x: \"cosmic\" if x.find(\"Sf Fire\") != -1 else x)\n",
    "df[\"name\"] = df[\"name\"].apply(lambda x: \"airbnb\" if x.find(\"Airbnb\") != -1 else x)\n",
    "df[\"name\"] = df[\"name\"].apply(lambda x: \"other\" if x.find(\"Deposit Mobile\") != -1 else x)\n",
    "\n",
    "# Make the incomes positive numbers\n",
    "df[\"amount\"] = df[\"amount\"].apply(lambda x: -x)\n",
    "\n",
    "# Group by month and category\n",
    "df = df.set_index('date').groupby([pd.Grouper(freq=\"M\"), \"name\"]).sum().reset_index()\n",
    "# Add a column with the month index\n",
    "df['month'] = df.date.dt.month\n",
    "# Keep only the cols we need\n",
    "df = df[['month', 'name', 'amount']]\n",
    "# Pivot to have rows with categories and cols with months\n",
    "result = df.pivot_table(values=\"amount\", index=df.name, columns=\"month\")\n",
    "# Make it all numbers\n",
    "result.fillna(0, inplace=True)\n",
    "# Round the numbers to ints\n",
    "result = result.round(0).astype(int)\n",
    "# Save in a CSV file\n",
    "result.to_csv('income.csv')\n",
    "result"
   ]
  },
  {
   "cell_type": "code",
   "execution_count": null,
   "id": "1e46f782-d831-4a8d-937a-cd1519d54f87",
   "metadata": {},
   "outputs": [],
   "source": [
    "# Filter for the year in question\n",
    "df = df[df['date'].between('2023-01-01', '2023-12-31')]\n",
    "# Group by month and category\n",
    "df = df.set_index('date').groupby([pd.Grouper(freq=\"M\"), \"category\"]).sum().reset_index()\n",
    "# Add a column with the month index\n",
    "df['month'] = df.date.dt.month\n",
    "# Keep only the cols we need\n",
    "df = df[['month', 'category', 'amount']]\n",
    "# Pivot to have rows with categories and cols with months\n",
    "result = df.pivot_table(values=\"amount\", index=df.category, columns=\"month\")\n",
    "# Make it all numbers\n",
    "result.fillna(0, inplace=True)\n",
    "# Round the numbers to ints\n",
    "result = result.round(0).astype(int)\n",
    "# Save in a CSV file\n",
    "result.to_csv('output.csv')\n",
    "result"
   ]
  }
 ],
 "metadata": {
  "kernelspec": {
   "display_name": "Python 3 (ipykernel)",
   "language": "python",
   "name": "python3"
  },
  "language_info": {
   "codemirror_mode": {
    "name": "ipython",
    "version": 3
   },
   "file_extension": ".py",
   "mimetype": "text/x-python",
   "name": "python",
   "nbconvert_exporter": "python",
   "pygments_lexer": "ipython3",
   "version": "3.11.6"
  }
 },
 "nbformat": 4,
 "nbformat_minor": 5
}
